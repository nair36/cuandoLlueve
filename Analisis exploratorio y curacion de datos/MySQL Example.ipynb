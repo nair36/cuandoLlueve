{
 "cells": [
  {
   "cell_type": "code",
   "execution_count": 1,
   "metadata": {},
   "outputs": [],
   "source": [
    "import mysql.connector\n",
    "import config"
   ]
  },
  {
   "cell_type": "code",
   "execution_count": 2,
   "metadata": {},
   "outputs": [],
   "source": [
    "mydb = mysql.connector.connect(\n",
    "  host=config.DB_HOST,\n",
    "  user=config.DB_USER,\n",
    "  passwd=config.DB_PASSWORD,\n",
    "  database=config.DB_DATABASE\n",
    ")"
   ]
  },
  {
   "cell_type": "code",
   "execution_count": 3,
   "metadata": {},
   "outputs": [],
   "source": [
    "selectCursor = mydb.cursor()"
   ]
  },
  {
   "cell_type": "code",
   "execution_count": 4,
   "metadata": {},
   "outputs": [],
   "source": [
    "selectCursor.execute(\"SELECT * FROM forecastHistory limit 10\")"
   ]
  },
  {
   "cell_type": "code",
   "execution_count": 5,
   "metadata": {},
   "outputs": [],
   "source": [
    "result = selectCursor.fetchall()"
   ]
  },
  {
   "cell_type": "code",
   "execution_count": 6,
   "metadata": {
    "scrolled": true
   },
   "outputs": [
    {
     "name": "stdout",
     "output_type": "stream",
     "text": [
      "(1, \"{'latitude': -34.5934, 'longitude': -60.9462, 'timezone': 'America/Argentina/Buenos_Aires', 'currently': {'time': 1483272000}, 'offset': -3}\")\n",
      "(2, \"{'latitude': -34.5934, 'longitude': -60.9462, 'timezone': 'America/Argentina/Buenos_Aires', 'currently': {'time': 1483358400, 'summary': 'Clear', 'icon': 'clear-day', 'precipType': 'rain', 'temperature': 22.71, 'apparentTemperature': 22.88, 'dewPoint': 17.09, 'humidity': 0.71, 'pressure': 1013.09, 'windSpeed': 12.96, 'windBearing': 71, 'cloudCover': 0.13, 'uvIndex': 3}, 'daily': {'data': [{'time': 1483326000, 'summary': 'Partly cloudy starting in the afternoon, continuing until evening.', 'icon': 'partly-cloudy-day', 'sunriseTime': 1483347417, 'sunsetTime': 1483399282, 'moonPhase': 0.14, 'precipType': 'rain', 'dewPoint': 17.99, 'humidity': 0.68, 'pressure': 1010.22, 'windSpeed': 11.09, 'windBearing': 51, 'uvIndex': 9, 'uvIndexTime': 1483369200, 'temperatureMin': 17.11, 'temperatureMinTime': 1483347600, 'temperatureMax': 30.62, 'temperatureMaxTime': 1483380000, 'apparentTemperatureMin': 17.11, 'apparentTemperatureMinTime': 1483347600, 'apparentTemperatureMax': 32.65, 'apparentTemperatureMaxTime': 1483380000}]}, 'offset': -3}\")\n",
      "(3, \"{'latitude': -34.5934, 'longitude': -60.9462, 'timezone': 'America/Argentina/Buenos_Aires', 'currently': {'time': 1483444800, 'summary': 'Humid and Overcast', 'icon': 'cloudy', 'precipType': 'rain', 'temperature': 22.61, 'apparentTemperature': 23.49, 'dewPoint': 22.3, 'humidity': 0.98, 'pressure': 1002.8, 'windSpeed': 7.55, 'windBearing': 50, 'cloudCover': 1, 'uvIndex': 2}, 'daily': {'data': [{'time': 1483412400, 'summary': 'Mostly cloudy throughout the day.', 'icon': 'partly-cloudy-day', 'sunriseTime': 1483433864, 'sunsetTime': 1483485689, 'moonPhase': 0.18, 'precipType': 'rain', 'dewPoint': 20.66, 'humidity': 0.8, 'pressure': 1002.16, 'windSpeed': 1.67, 'windBearing': 113, 'cloudCover': 0.58, 'uvIndex': 7, 'uvIndexTime': 1483455600, 'temperatureMin': 22.61, 'temperatureMinTime': 1483434000, 'temperatureMax': 28.1, 'temperatureMaxTime': 1483466400, 'apparentTemperatureMin': 23.36, 'apparentTemperatureMinTime': 1483434000, 'apparentTemperatureMax': 30.74, 'apparentTemperatureMaxTime': 1483466400}]}, 'offset': -3}\")\n",
      "(4, \"{'latitude': -34.5934, 'longitude': -60.9462, 'timezone': 'America/Argentina/Buenos_Aires', 'currently': {'time': 1483531200, 'summary': 'Mostly Cloudy', 'icon': 'partly-cloudy-day', 'precipType': 'rain', 'temperature': 21.11, 'apparentTemperature': 21.11, 'dewPoint': 11.29, 'humidity': 0.54, 'pressure': 1006.6, 'windSpeed': 14.77, 'windBearing': 200, 'cloudCover': 0.75, 'uvIndex': 3}, 'daily': {'data': [{'time': 1483498800, 'summary': 'Partly cloudy until afternoon.', 'icon': 'partly-cloudy-day', 'sunriseTime': 1483520313, 'sunsetTime': 1483572094, 'moonPhase': 0.21, 'precipType': 'rain', 'dewPoint': 11.55, 'humidity': 0.51, 'pressure': 1005.03, 'windSpeed': 8.93, 'windBearing': 202, 'uvIndex': 9, 'uvIndexTime': 1483542000, 'temperatureMin': 17.51, 'temperatureMinTime': 1483520400, 'temperatureMax': 27.7, 'temperatureMaxTime': 1483563600, 'apparentTemperatureMin': 17.51, 'apparentTemperatureMinTime': 1483520400, 'apparentTemperatureMax': 27.7, 'apparentTemperatureMaxTime': 1483563600}]}, 'offset': -3}\")\n",
      "(5, \"{'latitude': -34.5934, 'longitude': -60.9462, 'timezone': 'America/Argentina/Buenos_Aires', 'currently': {'time': 1483617600, 'summary': 'Clear', 'icon': 'clear-day', 'precipType': 'rain', 'temperature': 18.61, 'apparentTemperature': 18.61, 'dewPoint': 10.7, 'humidity': 0.6, 'pressure': 1012.71, 'windSpeed': 16.56, 'windBearing': 161}, 'daily': {'data': [{'time': 1483585200, 'summary': 'Clear throughout the day.', 'icon': 'clear-day', 'sunriseTime': 1483606762, 'sunsetTime': 1483658497, 'moonPhase': 0.25, 'precipType': 'rain', 'dewPoint': 11.74, 'humidity': 0.65, 'pressure': 1011.23, 'windSpeed': 10.2, 'windBearing': 151, 'uvIndex': 11, 'uvIndexTime': 1483628400, 'temperatureMin': 13.71, 'temperatureMinTime': 1483606800, 'temperatureMax': 25.32, 'temperatureMaxTime': 1483639200, 'apparentTemperatureMin': 13.71, 'apparentTemperatureMinTime': 1483606800, 'apparentTemperatureMax': 25.32, 'apparentTemperatureMaxTime': 1483639200}]}, 'offset': -3}\")\n",
      "(6, \"{'latitude': -34.5934, 'longitude': -60.9462, 'timezone': 'America/Argentina/Buenos_Aires', 'currently': {'time': 1483704000, 'summary': 'Breezy', 'icon': 'wind', 'precipType': 'rain', 'temperature': 19.91, 'apparentTemperature': 19.91, 'dewPoint': 14.09, 'humidity': 0.69, 'pressure': 1015.42, 'windSpeed': 31.67, 'windBearing': 50}, 'daily': {'data': [{'time': 1483671600, 'summary': 'Breezy until evening and partly cloudy starting in the evening.', 'icon': 'wind', 'sunriseTime': 1483693213, 'sunsetTime': 1483744898, 'moonPhase': 0.28, 'precipType': 'rain', 'dewPoint': 15.37, 'humidity': 0.68, 'pressure': 1012.77, 'windSpeed': 19.55, 'windBearing': 29, 'uvIndex': 11, 'uvIndexTime': 1483714800, 'temperatureMin': 13.61, 'temperatureMinTime': 1483693200, 'temperatureMax': 29.71, 'temperatureMaxTime': 1483725600, 'apparentTemperatureMin': 13.61, 'apparentTemperatureMinTime': 1483693200, 'apparentTemperatureMax': 30.97, 'apparentTemperatureMaxTime': 1483736400}]}, 'offset': -3}\")\n",
      "(7, \"{'latitude': -34.5934, 'longitude': -60.9462, 'timezone': 'America/Argentina/Buenos_Aires', 'currently': {'time': 1483790400, 'summary': 'Humid and Partly Cloudy', 'icon': 'partly-cloudy-day', 'precipType': 'rain', 'temperature': 27.62, 'apparentTemperature': 30.54, 'dewPoint': 22.79, 'humidity': 0.75, 'pressure': 1009.1, 'windSpeed': 27.71, 'windBearing': 341, 'cloudCover': 0.38, 'uvIndex': 3}, 'daily': {'data': [{'time': 1483758000, 'summary': 'Humid and mostly cloudy throughout the day.', 'icon': 'partly-cloudy-day', 'sunriseTime': 1483779665, 'sunsetTime': 1483831297, 'moonPhase': 0.32, 'precipType': 'rain', 'dewPoint': 22.11, 'humidity': 0.74, 'pressure': 1007.25, 'windSpeed': 15.72, 'windBearing': 347, 'uvIndex': 8, 'uvIndexTime': 1483801200, 'temperatureMin': 22.51, 'temperatureMinTime': 1483779600, 'temperatureMax': 33.12, 'temperatureMaxTime': 1483812000, 'apparentTemperatureMin': 23.21, 'apparentTemperatureMinTime': 1483779600, 'apparentTemperatureMax': 37.48, 'apparentTemperatureMaxTime': 1483812000}]}, 'offset': -3}\")\n",
      "(8, \"{'latitude': -34.5934, 'longitude': -60.9462, 'timezone': 'America/Argentina/Buenos_Aires', 'currently': {'time': 1483876800, 'summary': 'Overcast', 'icon': 'cloudy', 'precipType': 'rain', 'temperature': 19.81, 'apparentTemperature': 20.36, 'dewPoint': 19.2, 'humidity': 0.96, 'pressure': 1010.4, 'windSpeed': 9.37, 'windBearing': 290, 'cloudCover': 1, 'uvIndex': 2}, 'daily': {'data': [{'time': 1483844400, 'summary': 'Breezy in the morning and overcast until afternoon.', 'icon': 'wind', 'sunriseTime': 1483866117, 'sunsetTime': 1483917694, 'moonPhase': 0.36, 'precipType': 'rain', 'dewPoint': 19.46, 'humidity': 0.84, 'pressure': 1006.84, 'windSpeed': 9.72, 'windBearing': 27, 'cloudCover': 0.63, 'uvIndex': 5, 'uvIndexTime': 1483887600, 'temperatureMin': 19.21, 'temperatureMinTime': 1483887600, 'temperatureMax': 25.62, 'temperatureMaxTime': 1483844400, 'apparentTemperatureMin': 19.64, 'apparentTemperatureMinTime': 1483887600, 'apparentTemperatureMax': 25.99, 'apparentTemperatureMaxTime': 1483844400}]}, 'offset': -3}\")\n",
      "(9, \"{'latitude': -34.5934, 'longitude': -60.9462, 'timezone': 'America/Argentina/Buenos_Aires', 'currently': {'time': 1483963200, 'summary': 'Partly Cloudy', 'icon': 'partly-cloudy-day', 'precipType': 'rain', 'temperature': 24.11, 'apparentTemperature': 24.86, 'dewPoint': 21.9, 'humidity': 0.88, 'pressure': 1001.71, 'windSpeed': 16.56, 'windBearing': 20, 'cloudCover': 0.5, 'uvIndex': 3}, 'daily': {'data': [{'time': 1483930800, 'summary': 'Mostly cloudy until evening.', 'icon': 'partly-cloudy-day', 'sunriseTime': 1483952571, 'sunsetTime': 1484004089, 'moonPhase': 0.4, 'precipType': 'rain', 'dewPoint': 18.91, 'humidity': 0.82, 'pressure': 1003.06, 'windSpeed': 3.28, 'windBearing': 109, 'cloudCover': 0.47, 'uvIndex': 7, 'uvIndexTime': 1483974000, 'temperatureMin': 18.51, 'temperatureMinTime': 1483952400, 'temperatureMax': 30.31, 'temperatureMaxTime': 1483984800, 'apparentTemperatureMin': 18.92, 'apparentTemperatureMinTime': 1483952400, 'apparentTemperatureMax': 32.71, 'apparentTemperatureMaxTime': 1483984800}]}, 'offset': -3}\")\n",
      "(10, \"{'latitude': -34.5934, 'longitude': -60.9462, 'timezone': 'America/Argentina/Buenos_Aires', 'currently': {'time': 1484049600, 'summary': 'Mostly Cloudy', 'icon': 'partly-cloudy-day', 'precipType': 'rain', 'temperature': 19.21, 'apparentTemperature': 19.55, 'dewPoint': 17.6, 'humidity': 0.9, 'pressure': 1012.4, 'windSpeed': 0, 'cloudCover': 0.63, 'uvIndex': 3}, 'daily': {'data': [{'time': 1484017200, 'summary': 'Mostly cloudy until evening.', 'icon': 'partly-cloudy-day', 'sunriseTime': 1484039025, 'sunsetTime': 1484090483, 'moonPhase': 0.43, 'precipType': 'rain', 'dewPoint': 14.63, 'humidity': 0.75, 'pressure': 1010.68, 'windSpeed': 3.72, 'windBearing': 293, 'uvIndex': 6, 'uvIndexTime': 1484060400, 'temperatureMin': 13.71, 'temperatureMinTime': 1484028000, 'temperatureMax': 26.21, 'temperatureMaxTime': 1484071200, 'apparentTemperatureMin': 13.71, 'apparentTemperatureMinTime': 1484028000, 'apparentTemperatureMax': 26.21, 'apparentTemperatureMaxTime': 1484071200}]}, 'offset': -3}\")\n"
     ]
    }
   ],
   "source": [
    "for x in result:\n",
    "    print(x)"
   ]
  },
  {
   "cell_type": "code",
   "execution_count": 7,
   "metadata": {},
   "outputs": [],
   "source": [
    "mydb.close()"
   ]
  },
  {
   "cell_type": "code",
   "execution_count": 8,
   "metadata": {},
   "outputs": [
    {
     "data": {
      "text/plain": [
       "\"{'latitude': -34.5934, 'longitude': -60.9462, 'timezone': 'America/Argentina/Buenos_Aires', 'currently': {'time': 1483272000}, 'offset': -3}\""
      ]
     },
     "execution_count": 8,
     "metadata": {},
     "output_type": "execute_result"
    }
   ],
   "source": [
    "result[0][1]"
   ]
  },
  {
   "cell_type": "code",
   "execution_count": 9,
   "metadata": {},
   "outputs": [
    {
     "data": {
      "text/plain": [
       "\"{'latitude': -34.5934, 'longitude': -60.9462, 'timezone': 'America/Argentina/Buenos_Aires', 'currently': {'time': 1483358400, 'summary': 'Clear', 'icon': 'clear-day', 'precipType': 'rain', 'temperature': 22.71, 'apparentTemperature': 22.88, 'dewPoint': 17.09, 'humidity': 0.71, 'pressure': 1013.09, 'windSpeed': 12.96, 'windBearing': 71, 'cloudCover': 0.13, 'uvIndex': 3}, 'daily': {'data': [{'time': 1483326000, 'summary': 'Partly cloudy starting in the afternoon, continuing until evening.', 'icon': 'partly-cloudy-day', 'sunriseTime': 1483347417, 'sunsetTime': 1483399282, 'moonPhase': 0.14, 'precipType': 'rain', 'dewPoint': 17.99, 'humidity': 0.68, 'pressure': 1010.22, 'windSpeed': 11.09, 'windBearing': 51, 'uvIndex': 9, 'uvIndexTime': 1483369200, 'temperatureMin': 17.11, 'temperatureMinTime': 1483347600, 'temperatureMax': 30.62, 'temperatureMaxTime': 1483380000, 'apparentTemperatureMin': 17.11, 'apparentTemperatureMinTime': 1483347600, 'apparentTemperatureMax': 32.65, 'apparentTemperatureMaxTime': 1483380000}]}, 'offset': -3}\""
      ]
     },
     "execution_count": 9,
     "metadata": {},
     "output_type": "execute_result"
    }
   ],
   "source": [
    "result[1][1]"
   ]
  },
  {
   "cell_type": "code",
   "execution_count": null,
   "metadata": {},
   "outputs": [],
   "source": []
  }
 ],
 "metadata": {
  "kernelspec": {
   "display_name": "Python 3",
   "language": "python",
   "name": "python3"
  },
  "language_info": {
   "codemirror_mode": {
    "name": "ipython",
    "version": 3
   },
   "file_extension": ".py",
   "mimetype": "text/x-python",
   "name": "python",
   "nbconvert_exporter": "python",
   "pygments_lexer": "ipython3",
   "version": "3.7.2"
  }
 },
 "nbformat": 4,
 "nbformat_minor": 2
}
